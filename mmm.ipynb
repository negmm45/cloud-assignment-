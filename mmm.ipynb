{
 "cells": [
  {
   "cell_type": "code",
   "execution_count": 69,
   "metadata": {},
   "outputs": [],
   "source": [
    "import pandas as pd\n",
    "from scipy import stats"
   ]
  },
  {
   "cell_type": "code",
   "execution_count": 70,
   "metadata": {},
   "outputs": [
    {
     "name": "stdout",
     "output_type": "stream",
     "text": [
      "<class 'pandas.core.frame.DataFrame'>\n",
      "RangeIndex: 1354 entries, 0 to 1353\n",
      "Data columns (total 23 columns):\n",
      " #   Column                     Non-Null Count  Dtype  \n",
      "---  ------                     --------------  -----  \n",
      " 0   book_id                    1354 non-null   int64  \n",
      " 1   goodreads_book_id          1354 non-null   int64  \n",
      " 2   best_book_id               1354 non-null   int64  \n",
      " 3   work_id                    1354 non-null   int64  \n",
      " 4   books_count                1354 non-null   int64  \n",
      " 5   isbn                       1302 non-null   object \n",
      " 6   isbn13                     1310 non-null   float64\n",
      " 7   authors                    1354 non-null   object \n",
      " 8   original_publication_year  1351 non-null   float64\n",
      " 9   original_title             1302 non-null   object \n",
      " 10  title                      1354 non-null   object \n",
      " 11  language_code              1245 non-null   object \n",
      " 12  average_rating             1354 non-null   float64\n",
      " 13  ratings_count              1354 non-null   int64  \n",
      " 14  work_ratings_count         1354 non-null   int64  \n",
      " 15  work_text_reviews_count    1354 non-null   int64  \n",
      " 16  ratings_1                  1354 non-null   int64  \n",
      " 17  ratings_2                  1354 non-null   int64  \n",
      " 18  ratings_3                  1354 non-null   int64  \n",
      " 19  ratings_4                  1354 non-null   int64  \n",
      " 20  ratings_5                  1354 non-null   int64  \n",
      " 21  image_url                  1354 non-null   object \n",
      " 22  small_image_url            1354 non-null   object \n",
      "dtypes: float64(3), int64(13), object(7)\n",
      "memory usage: 243.4+ KB\n",
      "None\n"
     ]
    }
   ],
   "source": [
    "books = pd.read_csv('books.csv')\n",
    "print(books.info())"
   ]
  },
  {
   "cell_type": "code",
   "execution_count": 71,
   "metadata": {},
   "outputs": [],
   "source": [
    "#remove duplicate items \n",
    "books = books.drop_duplicates()\n",
    "#remove na cells\n",
    "books =books.dropna() "
   ]
  },
  {
   "cell_type": "code",
   "execution_count": 72,
   "metadata": {},
   "outputs": [
    {
     "name": "stdout",
     "output_type": "stream",
     "text": [
      "<class 'pandas.core.frame.DataFrame'>\n",
      "Index: 1153 entries, 0 to 1353\n",
      "Data columns (total 23 columns):\n",
      " #   Column                     Non-Null Count  Dtype  \n",
      "---  ------                     --------------  -----  \n",
      " 0   book_id                    1153 non-null   int64  \n",
      " 1   goodreads_book_id          1153 non-null   int64  \n",
      " 2   best_book_id               1153 non-null   int64  \n",
      " 3   work_id                    1153 non-null   int64  \n",
      " 4   books_count                1153 non-null   int64  \n",
      " 5   isbn                       1153 non-null   object \n",
      " 6   isbn13                     1153 non-null   float64\n",
      " 7   authors                    1153 non-null   object \n",
      " 8   original_publication_year  1153 non-null   float64\n",
      " 9   original_title             1153 non-null   object \n",
      " 10  title                      1153 non-null   object \n",
      " 11  language_code              1153 non-null   object \n",
      " 12  average_rating             1153 non-null   float64\n",
      " 13  ratings_count              1153 non-null   int64  \n",
      " 14  work_ratings_count         1153 non-null   int64  \n",
      " 15  work_text_reviews_count    1153 non-null   int64  \n",
      " 16  ratings_1                  1153 non-null   int64  \n",
      " 17  ratings_2                  1153 non-null   int64  \n",
      " 18  ratings_3                  1153 non-null   int64  \n",
      " 19  ratings_4                  1153 non-null   int64  \n",
      " 20  ratings_5                  1153 non-null   int64  \n",
      " 21  image_url                  1153 non-null   object \n",
      " 22  small_image_url            1153 non-null   object \n",
      "dtypes: float64(3), int64(13), object(7)\n",
      "memory usage: 216.2+ KB\n",
      "None\n"
     ]
    }
   ],
   "source": [
    "print(books.info())"
   ]
  },
  {
   "cell_type": "code",
   "execution_count": 73,
   "metadata": {},
   "outputs": [],
   "source": [
    "#foucsing on harry potter books\n",
    "harrypotter_books = books[books['original_title'].str.contains('Harry Potter' , case= False )]"
   ]
  },
  {
   "cell_type": "code",
   "execution_count": 68,
   "metadata": {},
   "outputs": [
    {
     "name": "stdout",
     "output_type": "stream",
     "text": [
      "The book with the highest selling copies is: Harry Potter Boxset (Harry Potter, #1-7)\n"
     ]
    }
   ],
   "source": [
    "# Find the row with the highest selling copies\n",
    "max_selling_book = harrypotter_books[harrypotter_books['isbn'] == harrypotter_books['isbn'].max()]\n",
    "\n",
    "# Get the title of the book with the highest selling copies\n",
    "title_of_max_selling_book = max_selling_book['title'].values[0]\n",
    "print(\"The book with the highest selling copies is\", title_of_max_selling_book)"
   ]
  },
  {
   "cell_type": "code",
   "execution_count": 65,
   "metadata": {},
   "outputs": [
    {
     "name": "stdout",
     "output_type": "stream",
     "text": [
      "the average rating book is 4.4910000000000005\n"
     ]
    }
   ],
   "source": [
    "#highest rating book \n",
    "avg_rating = harrypotter_books['average_rating'].mean()\n",
    "\n",
    "print('the average rating book is ' + str(avg_rating))\n"
   ]
  }
 ],
 "metadata": {
  "kernelspec": {
   "display_name": "Python 3",
   "language": "python",
   "name": "python3"
  },
  "language_info": {
   "codemirror_mode": {
    "name": "ipython",
    "version": 3
   },
   "file_extension": ".py",
   "mimetype": "text/x-python",
   "name": "python",
   "nbconvert_exporter": "python",
   "pygments_lexer": "ipython3",
   "version": "3.12.3"
  }
 },
 "nbformat": 4,
 "nbformat_minor": 2
}
